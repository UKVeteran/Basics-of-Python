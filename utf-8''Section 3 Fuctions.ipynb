{
  "cells": [
    {
      "metadata": {},
      "cell_type": "markdown",
      "source": "All parameters (arguments) in the Python language are passed by reference. It means if you change what a parameter refers to within a function, the change also reflects back in the calling function. For example −"
    },
    {
      "metadata": {
        "trusted": true
      },
      "cell_type": "code",
      "source": "\n# Function definition is here\ndef changeme( mylist ):\n   \"This changes a passed list into this function\"\n   mylist.append([1,2,3,4]);\n   print (\"Values inside the function: \", mylist)\n   return\n\n# Now you can call changeme function\nmylist = [10,20,30];\nchangeme( mylist );\nprint (\"Values outside the function: \", mylist)",
      "execution_count": 3,
      "outputs": [
        {
          "output_type": "stream",
          "text": "Values inside the function:  [10, 20, 30, [1, 2, 3, 4]]\nValues outside the function:  [10, 20, 30, [1, 2, 3, 4]]\n",
          "name": "stdout"
        }
      ]
    },
    {
      "metadata": {
        "trusted": true
      },
      "cell_type": "code",
      "source": "#There is also a mechanism for an arbitrary number of keyword parameters. To do this, we use the double asterisk \"**\" notation:\n\ndef f(**args):\n     print(args)\nf(de=\"German\",en=\"English\",fr=\"French\")\n",
      "execution_count": 8,
      "outputs": [
        {
          "output_type": "stream",
          "text": "{'de': 'German', 'en': 'English', 'fr': 'French'}\n",
          "name": "stdout"
        }
      ]
    },
    {
      "metadata": {
        "trusted": true
      },
      "cell_type": "code",
      "source": "def arithmetic_mean_xxx(x, *l):\n    \"\"\" The function calculates the arithmetic mean of a non-empty\n        arbitrary number of numbers \"\"\"\n    sum = x\n    for i in l:\n        sum += i\n\n    return sum / (1.0 + len(l))",
      "execution_count": 6,
      "outputs": []
    },
    {
      "metadata": {
        "trusted": true
      },
      "cell_type": "code",
      "source": "arithmetic_mean_xxx(4,7,9)",
      "execution_count": 7,
      "outputs": [
        {
          "output_type": "execute_result",
          "execution_count": 7,
          "data": {
            "text/plain": "6.666666666666667"
          },
          "metadata": {}
        }
      ]
    },
    {
      "metadata": {
        "trusted": true
      },
      "cell_type": "code",
      "source": "def parent(num):\n    def first_child():\n        return \"Hi, I am Emma\"\n\n    def second_child():\n        return \"Call me Liam\"\n\n    if num == 1:\n        return first_child\n    else:\n        return second_child\n    \nfirst = parent(1)\n\nsecond = parent(2)\n\nprint(first)\nprint(second)\n\nfirst()\n\n\nsecond()",
      "execution_count": 14,
      "outputs": [
        {
          "output_type": "stream",
          "text": "<function parent.<locals>.first_child at 0x7f84a74fcbf8>\n<function parent.<locals>.second_child at 0x7f84a74fc9d8>\n",
          "name": "stdout"
        },
        {
          "output_type": "execute_result",
          "execution_count": 14,
          "data": {
            "text/plain": "'Call me Liam'"
          },
          "metadata": {}
        }
      ]
    },
    {
      "metadata": {
        "trusted": true
      },
      "cell_type": "code",
      "source": "\n# Function definition is here\nsum = lambda arg1, arg2: arg1 + arg2;\n\n# Now you can call sum as a function\nprint (\"Value of total : \", sum( 10, 20 ))\nprint (\"Value of total : \", sum( 20, 20 ))",
      "execution_count": 13,
      "outputs": [
        {
          "output_type": "stream",
          "text": "Value of total :  30\nValue of total :  40\n",
          "name": "stdout"
        }
      ]
    },
    {
      "metadata": {
        "trusted": true
      },
      "cell_type": "code",
      "source": "\n\ndef my_decorator(func):\n    def wrapper():\n        print(\"Something is happening before the function is called.\")\n        func()\n        print(\"Something is happening after the function is called.\")\n    return wrapper\n\n@my_decorator\ndef say_whee():\n    print(\"Whee!\")\n    \n    \n#So, @my_decorator is just an easier way of saying say_whee = my_decorator(say_whee). It’s how you apply a decorator to a function.\nsay_whee()\n",
      "execution_count": 16,
      "outputs": []
    },
    {
      "metadata": {
        "trusted": true
      },
      "cell_type": "code",
      "source": "def decorator_func(say_hello_func):\n  def wrapper_func(hello_var, world_var):\n    hello = \"Hello yyy, \"\n    world = \"World xxx\"\n    \n    if not hello_var:\n      hello_var = hello\n    \n    if not world_var:\n      world_var = world\n      \n    return say_hello_func(hello_var, world_var)\n  \n  return wrapper_func\n\n@decorator_func\ndef say_hello(hello_var, world_var):\n  print (hello_var + \" \" + world_var)\n  \nsay_hello(\"Hello\", \"\")",
      "execution_count": 21,
      "outputs": [
        {
          "output_type": "stream",
          "text": "Hello World xxx\n",
          "name": "stdout"
        }
      ]
    },
    {
      "metadata": {
        "trusted": true
      },
      "cell_type": "code",
      "source": "say_hello(\"\", \"\")",
      "execution_count": 22,
      "outputs": [
        {
          "output_type": "stream",
          "text": "Hello yyy,  World xxx\n",
          "name": "stdout"
        }
      ]
    },
    {
      "metadata": {
        "trusted": true
      },
      "cell_type": "code",
      "source": "def print_two(arg1, arg2):                       \n    print(f\"arg1: {arg1}, arg2: {arg2}\")                       \n \n# this just takes one argument                       \ndef print_one(arg1):                       \n    print(f\"arg1: {arg1}\")                       \n \n# this one takes no arguments                       \ndef print_none():                       \n    print(\"I got nothin' to return.\")                       \n \n                  \nprint_two(\"S\", \"J\")                       \nprint_one(\"S!\")                       \nprint_none()\n",
      "execution_count": 1,
      "outputs": [
        {
          "output_type": "stream",
          "text": "arg1: S, arg2: J\narg1: S!\nI got nothin' to return.\n",
          "name": "stdout"
        }
      ]
    },
    {
      "metadata": {
        "trusted": true
      },
      "cell_type": "code",
      "source": "def print_two(input1, input2):                       \n    print(\"arg1:\",input1, \"arg2:\", input2)                       \n \n# this just takes one argument                       \ndef print_one(par1):                       \n    print(\"arg1:\", par1)                       \n \n# this one takes no arguments                       \ndef print_none():                       \n    print(\"I got nothin' to return.\")   \n    \ndef do_none():                       \n    pass  \n \n                  \nprint_two(\"S\", \"J\")                       \nprint_one(\"S!\")                       \nprint_none()\n",
      "execution_count": 6,
      "outputs": [
        {
          "output_type": "stream",
          "text": "arg1: S arg2: J\narg1: S!\nI got nothin' to return.\n",
          "name": "stdout"
        }
      ]
    },
    {
      "metadata": {
        "trusted": true
      },
      "cell_type": "code",
      "source": "\n\ndef add(a, b):                       \n   print(a,b)                       \n   return a + b                       \n \ndef subtract(a, b):                       \n   print(a,\"minus\",b)                       \n   return a - b                       \n \ndef multiply(a, b):                       \n   print(\"multiple\",a,b)                       \n   return a * b                       \n \ndef divide(a, b):                       \n   print(\"DIVIDING\",a,b)                       \n   return a / b                       \n \nprint(\"Let's see some functions!\")                       \nage = add(30, 5)                       \nheight = subtract(78, 4)                       \nweight = multiply(90, 2)                       \niq = divide(100, 2)  ",
      "execution_count": 8,
      "outputs": [
        {
          "output_type": "stream",
          "text": "Let's see some functions!\n30 5\n78 minus 4\nmultiple 90 2\nDIVIDING 100 2\n",
          "name": "stdout"
        }
      ]
    },
    {
      "metadata": {
        "trusted": true
      },
      "cell_type": "code",
      "source": "divide(add(subtract(78, 4)  , multiply(90, 2) ),2)",
      "execution_count": 10,
      "outputs": [
        {
          "output_type": "stream",
          "text": "78 minus 4\nmultiple 90 2\n74 180\nDIVIDING 254 2\n",
          "name": "stdout"
        },
        {
          "output_type": "execute_result",
          "execution_count": 10,
          "data": {
            "text/plain": "127.0"
          },
          "metadata": {}
        }
      ]
    },
    {
      "metadata": {
        "trusted": true
      },
      "cell_type": "code",
      "source": "subtract(78, 4,2) ",
      "execution_count": 11,
      "outputs": [
        {
          "output_type": "error",
          "ename": "TypeError",
          "evalue": "subtract() takes 2 positional arguments but 3 were given",
          "traceback": [
            "\u001b[0;31m---------------------------------------------------------------------------\u001b[0m",
            "\u001b[0;31mTypeError\u001b[0m                                 Traceback (most recent call last)",
            "\u001b[0;32m<ipython-input-11-bc7b838ffde2>\u001b[0m in \u001b[0;36m<module>\u001b[0;34m()\u001b[0m\n\u001b[0;32m----> 1\u001b[0;31m \u001b[0msubtract\u001b[0m\u001b[0;34m(\u001b[0m\u001b[0;36m78\u001b[0m\u001b[0;34m,\u001b[0m \u001b[0;36m4\u001b[0m\u001b[0;34m,\u001b[0m\u001b[0;36m2\u001b[0m\u001b[0;34m)\u001b[0m\u001b[0;34m\u001b[0m\u001b[0m\n\u001b[0m",
            "\u001b[0;31mTypeError\u001b[0m: subtract() takes 2 positional arguments but 3 were given"
          ]
        }
      ]
    },
    {
      "metadata": {
        "trusted": true
      },
      "cell_type": "code",
      "source": "def xxx(*args):\n    for xy in args:\n        print(xy)\nxxx('aaa','bbb','ccc','eee')",
      "execution_count": 12,
      "outputs": [
        {
          "output_type": "stream",
          "text": "aaa\nbbb\nccc\neee\n",
          "name": "stdout"
        }
      ]
    },
    {
      "metadata": {
        "trusted": true
      },
      "cell_type": "code",
      "source": "def secret_formula(started):                       \n    samosa = started * 500                       \n    dosa = samosa / 1000                       \n    idli = dosa / 100                       \n    return samosa, dosa, idli\n \nrice = 10000                       \ns,d,i = secret_formula(rice)                       \n# remember that this is another way to format string                       \nprint(f\"We'd have {s} , {d} , and {i} .\")  ",
      "execution_count": 14,
      "outputs": [
        {
          "output_type": "stream",
          "text": "We'd have 5000000 , 5000.0 , and 50.0 .\n",
          "name": "stdout"
        }
      ]
    },
    {
      "metadata": {
        "trusted": true
      },
      "cell_type": "code",
      "source": "start_point = 10000\n\nprint (\"We'd have %d beans, %d jars, and %d crabapples.\" % secret_formula(start_point))",
      "execution_count": 15,
      "outputs": [
        {
          "output_type": "stream",
          "text": "We'd have 5000000 beans, 5000 jars, and 50 crabapples.\n",
          "name": "stdout"
        }
      ]
    },
    {
      "metadata": {
        "trusted": true
      },
      "cell_type": "code",
      "source": "def my_secret_formula(input1):                       \n    output1 = input1 * 500                       \n    output2 = output1 / 1000                       \n    output3 = output2 / 100                       \n    return output1, output2, output3\n \nrice = 10000                       \ns,d,i = my_secret_formula(rice)                       \n# remember that this is another way to format string                       \nprint(f\"We'd have {s} , {d} , and {i} .\")  ",
      "execution_count": 17,
      "outputs": [
        {
          "output_type": "stream",
          "text": "We'd have 5000000 , 5000.0 , and 50.0 .\n",
          "name": "stdout"
        }
      ]
    },
    {
      "metadata": {
        "trusted": true
      },
      "cell_type": "code",
      "source": "def secret_formula(started):\n    jelly_beans = started * 500\n    jars = jelly_beans / 1000\n    crates = jars / 100\n\n",
      "execution_count": 19,
      "outputs": []
    },
    {
      "metadata": {
        "trusted": true
      },
      "cell_type": "code",
      "source": "change = [1, 'pennies', 2, 'dimes',False, 3, 'quarters', True, None , (1,2,3,4)]\ndef findtype(change):\n    string_change =[]\n    int_change = []\n    bool_change = []\n    none_change = []\n    other_change = []\n    for eachvalue in change:\n        if type(eachvalue) == str:\n            string_change.append(eachvalue)\n        elif type(eachvalue) == int:\n            int_change.append(eachvalue)\n        elif type(eachvalue) == bool:\n            bool_change.append(eachvalue)\n        elif eachvalue is None:\n            none_change.append(eachvalue)\n        else:\n            other_change.append(eachvalue)\n\n\n    return {\"string\":string_change, \"int\" :int_change,\"bol\":bool_change,\"none\":none_change,\"other\":other_change}\n\no = findtype([1, True ,None , False, \"Pennies\", {1,2,3,4},(1,2,3,4),None,5.0])\n\nfor k,v in o.items() :\n    print (k,\" : \",v )",
      "execution_count": 1,
      "outputs": [
        {
          "output_type": "stream",
          "text": "string  :  ['Pennies']\nint  :  [1]\nbol  :  [True, False]\nnone  :  [None, None]\nother  :  [{1, 2, 3, 4}, (1, 2, 3, 4), 5.0]\n",
          "name": "stdout"
        }
      ]
    },
    {
      "metadata": {
        "trusted": true
      },
      "cell_type": "code",
      "source": "# Function definition is here\ndef changeme( mylist ):\n   \"This changes a passed list into this function\"\n   mylist.append([1,2,3,4]);\n   print (\"Values inside the function: \", mylist)\n   return\n \n# Now you can call changeme function\nmylist = [10,20,30];\nchangeme( mylist );\nprint (\"Values outside the function: \", mylist)",
      "execution_count": 2,
      "outputs": [
        {
          "output_type": "stream",
          "text": "Values inside the function:  [10, 20, 30, [1, 2, 3, 4]]\nValues outside the function:  [10, 20, 30, [1, 2, 3, 4]]\n",
          "name": "stdout"
        }
      ]
    },
    {
      "metadata": {
        "trusted": true
      },
      "cell_type": "code",
      "source": "def f(**args):\n     print(args)\nf(de=\"German\",en=\"English\",fr=\"French\")",
      "execution_count": 3,
      "outputs": [
        {
          "output_type": "stream",
          "text": "{'de': 'German', 'en': 'English', 'fr': 'French'}\n",
          "name": "stdout"
        }
      ]
    },
    {
      "metadata": {
        "trusted": true
      },
      "cell_type": "code",
      "source": "def f(**args):\n     for k,v in args.items():\n            print(k,v)\nf(de=\"German\",en=\"English\",fr=\"French\")",
      "execution_count": 5,
      "outputs": [
        {
          "output_type": "stream",
          "text": "de German\nen English\nfr French\n",
          "name": "stdout"
        }
      ]
    },
    {
      "metadata": {
        "trusted": true
      },
      "cell_type": "code",
      "source": "def arithmetic_mean_xxx(x, *l):\n    \"\"\" The function calculates the arithmetic mean of a non-empty\n        arbitrary number of numbers \"\"\"\n    sum = x\n    print (l)\n    for i in l:\n        sum += i\n \n    return sum / (1.0 + len(l))",
      "execution_count": 9,
      "outputs": []
    },
    {
      "metadata": {
        "trusted": true
      },
      "cell_type": "code",
      "source": "arithmetic_mean_xxx(1,2,3,4,5,6)",
      "execution_count": 11,
      "outputs": [
        {
          "output_type": "stream",
          "text": "(2, 3, 4, 5, 6)\n",
          "name": "stdout"
        },
        {
          "output_type": "execute_result",
          "execution_count": 11,
          "data": {
            "text/plain": "3.5"
          },
          "metadata": {}
        }
      ]
    },
    {
      "metadata": {
        "trusted": true
      },
      "cell_type": "code",
      "source": "def arithmetic_mean_xxx(x, y =2, *l):\n    \"\"\" The function calculates the arithmetic mean of a non-empty\n        arbitrary number of numbers \"\"\"\n    sum = x+y\n    print (\"y is\",y, \"l is\",l)\n    for i in l:\n        sum += i\n \n    return sum / (2.0 + len(l))",
      "execution_count": 18,
      "outputs": []
    },
    {
      "metadata": {
        "trusted": true
      },
      "cell_type": "code",
      "source": "arithmetic_mean_xxx(1)",
      "execution_count": 19,
      "outputs": [
        {
          "output_type": "stream",
          "text": "y is 2 l is ()\n",
          "name": "stdout"
        },
        {
          "output_type": "execute_result",
          "execution_count": 19,
          "data": {
            "text/plain": "1.5"
          },
          "metadata": {}
        }
      ]
    },
    {
      "metadata": {
        "trusted": true
      },
      "cell_type": "code",
      "source": "def parent(num):\n    def first_child():\n        return \"Hi, I am Emma\"\n \n    def second_child():\n        return \"Call me Liam\"\n \n    if num == 1:\n        return first_child\n    else:\n        return second_child\n    \nfirst = parent(1)\n \nsecond = parent(2)\n \nprint(first)\nprint(second)",
      "execution_count": 22,
      "outputs": [
        {
          "output_type": "stream",
          "text": "<function parent.<locals>.first_child at 0x7f518faaaea0>\n<function parent.<locals>.second_child at 0x7f518faaaae8>\n",
          "name": "stdout"
        }
      ]
    },
    {
      "metadata": {
        "trusted": true
      },
      "cell_type": "code",
      "source": "sum = lambda arg1, arg2: arg1 + arg2;\n \n# Now you can call sum as a function\nprint (\"Value of total : \", sum( 10, 20 ))\nprint (\"Value of total : \", sum( 20, 20 ))",
      "execution_count": 23,
      "outputs": [
        {
          "output_type": "stream",
          "text": "Value of total :  30\nValue of total :  40\n",
          "name": "stdout"
        }
      ]
    },
    {
      "metadata": {
        "trusted": true
      },
      "cell_type": "code",
      "source": "sum",
      "execution_count": 24,
      "outputs": [
        {
          "output_type": "execute_result",
          "execution_count": 24,
          "data": {
            "text/plain": "<function __main__.<lambda>>"
          },
          "metadata": {}
        }
      ]
    },
    {
      "metadata": {
        "trusted": true
      },
      "cell_type": "code",
      "source": "def fib(n):\n    if n == 0:\n        return 0\n    elif n == 1:\n        return 1\n    else:\n        return fib(n-1) + fib(n-2)",
      "execution_count": 25,
      "outputs": []
    },
    {
      "metadata": {
        "trusted": true
      },
      "cell_type": "code",
      "source": "fib(5)",
      "execution_count": 26,
      "outputs": [
        {
          "output_type": "execute_result",
          "execution_count": 26,
          "data": {
            "text/plain": "5"
          },
          "metadata": {}
        }
      ]
    },
    {
      "metadata": {
        "trusted": true
      },
      "cell_type": "code",
      "source": "class Memoize:\n def __init__(self, fn):\n  self.fn = fn\n  self.memo = {}\n def __call__(self, arg):\n  if arg not in self.memo:\n   self.memo[arg] = self.fn(arg)\n   return self.memo[arg]\n \n@Memoize\ndef fib(n):\n a,b = 1,1\n for i in range(n-1):\n  a,b = b,a+b\n return a\nprint (fib(10))",
      "execution_count": 29,
      "outputs": [
        {
          "output_type": "stream",
          "text": "55\n",
          "name": "stdout"
        }
      ]
    },
    {
      "metadata": {
        "trusted": true
      },
      "cell_type": "code",
      "source": "",
      "execution_count": null,
      "outputs": []
    }
  ],
  "metadata": {
    "kernelspec": {
      "name": "python36",
      "display_name": "Python 3.6",
      "language": "python"
    },
    "language_info": {
      "mimetype": "text/x-python",
      "nbconvert_exporter": "python",
      "name": "python",
      "pygments_lexer": "ipython3",
      "version": "3.6.6",
      "file_extension": ".py",
      "codemirror_mode": {
        "version": 3,
        "name": "ipython"
      }
    }
  },
  "nbformat": 4,
  "nbformat_minor": 2
}